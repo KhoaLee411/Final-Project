{
 "cells": [
  {
   "cell_type": "code",
   "execution_count": 103,
   "metadata": {},
   "outputs": [],
   "source": [
    "import pandas as pd\n",
    "import numpy as np\n",
    "from selenium import webdriver\n",
    "from selenium.webdriver.chrome.options import Options\n",
    "from selenium.webdriver.chrome.service import Service\n",
    "from selenium.common.exceptions import NoSuchElementException\n",
    "import requests\n",
    "from bs4 import BeautifulSoup\n"
   ]
  },
  {
   "cell_type": "code",
   "execution_count": 104,
   "metadata": {},
   "outputs": [],
   "source": [
    "main_link = 'https://www.presight.io/privacy-policy.html'\n",
    "path = 'chromedriver.exe'\n",
    "\n",
    "chrome_options = Options()                                     \n",
    "chrome_options.add_argument('--no-sandbox')                     \n",
    "chrome_options.add_argument('--disable-notifications')          \n",
    "chrome_options.add_argument('--disable-infobars')               \n",
    "\n",
    "service = Service(executable_path=path)\n",
    "driver = webdriver.Chrome(service=service, options=chrome_options)\n",
    "\n",
    "driver.get(main_link)"
   ]
  },
  {
   "cell_type": "code",
   "execution_count": 105,
   "metadata": {},
   "outputs": [],
   "source": [
    "html = driver.page_source\n",
    "soup = BeautifulSoup(html, 'html.parser')"
   ]
  },
  {
   "cell_type": "code",
   "execution_count": 106,
   "metadata": {},
   "outputs": [],
   "source": [
    "data = []\n"
   ]
  },
  {
   "cell_type": "code",
   "execution_count": 107,
   "metadata": {},
   "outputs": [
    {
     "name": "stdout",
     "output_type": "stream",
     "text": [
      "Presight | AI-powered data platform for business teams\n"
     ]
    }
   ],
   "source": [
    "title = soup.title.get_text()\n",
    "data.append(title)\n",
    "print(title)"
   ]
  },
  {
   "cell_type": "code",
   "execution_count": 108,
   "metadata": {},
   "outputs": [],
   "source": [
    "head_above = soup.find(\"div\", {'class': \"chakra-stack css-1uji4px\"}).find(\"h2\", {'class': \"chakra-heading css-dhb2ck\"})\n",
    "if head_above:\n",
    "    head_above_text = head_above.get_text()\n",
    "    data.append(head_above_text)"
   ]
  },
  {
   "cell_type": "code",
   "execution_count": 109,
   "metadata": {},
   "outputs": [],
   "source": [
    "head_below = soup.find(\"div\", {'class': \"chakra-stack css-1uji4px\"}).find(\"h2\", {'class': \"chakra-heading css-18j379d\"})\n",
    "if head_below:\n",
    "    head_below_text = head_below.get_text()\n",
    "    data.append(head_below_text)"
   ]
  },
  {
   "cell_type": "code",
   "execution_count": 110,
   "metadata": {},
   "outputs": [],
   "source": [
    "content_head = soup.find(\"div\", {'class': \"chakra-stack css-lcbvq9\"}).find(\"p\", {\"class\": \"chakra-text css-0\"})\n",
    "if content_head:\n",
    "    content_head_text = content_head.get_text()\n",
    "    data.append(content_head_text)"
   ]
  },
  {
   "cell_type": "code",
   "execution_count": 111,
   "metadata": {},
   "outputs": [],
   "source": [
    "for tag in soup.find_all(\"div\", {'class': \"chakra-stack css-o5l3sd\"}):\n",
    "    heading = tag.find(\"h2\")\n",
    "    if heading:\n",
    "        heading_text = heading.get_text(strip=True)\n",
    "        content = tag.find(\"p\")\n",
    "        content_text = content.get_text(strip=True) if content else ''\n",
    "        \n",
    "        data.append(heading_text)\n",
    "        data.append(content_text)\n",
    "        \n",
    "        list_items = tag.find_all(\"li\")\n",
    "        for item in list_items:\n",
    "            data.append(heading_text)\n",
    "            data.append(f\"{item.get_text(strip=True)}\")"
   ]
  },
  {
   "cell_type": "code",
   "execution_count": 112,
   "metadata": {},
   "outputs": [],
   "source": [
    "df = pd.DataFrame(data, columns=[\"Content\"])\n"
   ]
  },
  {
   "cell_type": "code",
   "execution_count": 113,
   "metadata": {},
   "outputs": [
    {
     "name": "stdout",
     "output_type": "stream",
     "text": [
      "                                              Content\n",
      "0   Presight | AI-powered data platform for busine...\n",
      "1                                      PRIVACY POLICY\n",
      "2                            Last updated 15 Sep 2023\n",
      "3   At Presight, we are committed to protecting th...\n",
      "4                      Information Collection and Use\n",
      "..                                                ...\n",
      "83  We may update this Privacy Policy from time to...\n",
      "84                                         Contact Us\n",
      "85  If you have any questions about this Privacy P...\n",
      "86                                Purposeful Use Only\n",
      "87  We commit to only use personal information for...\n",
      "\n",
      "[88 rows x 1 columns]\n"
     ]
    }
   ],
   "source": [
    "print(df)\n"
   ]
  }
 ],
 "metadata": {
  "kernelspec": {
   "display_name": ".venv",
   "language": "python",
   "name": "python3"
  },
  "language_info": {
   "codemirror_mode": {
    "name": "ipython",
    "version": 3
   },
   "file_extension": ".py",
   "mimetype": "text/x-python",
   "name": "python",
   "nbconvert_exporter": "python",
   "pygments_lexer": "ipython3",
   "version": "3.12.7"
  }
 },
 "nbformat": 4,
 "nbformat_minor": 2
}
