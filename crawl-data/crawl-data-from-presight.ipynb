{
 "cells": [
  {
   "cell_type": "code",
   "execution_count": 1,
   "metadata": {},
   "outputs": [],
   "source": [
    "import pandas as pd\n",
    "import numpy as np\n",
    "from selenium import webdriver\n",
    "from selenium.webdriver.chrome.options import Options\n",
    "from selenium.webdriver.chrome.service import Service\n",
    "from selenium.common.exceptions import NoSuchElementException\n",
    "import requests\n",
    "from bs4 import BeautifulSoup\n"
   ]
  },
  {
   "cell_type": "code",
   "execution_count": 2,
   "metadata": {},
   "outputs": [],
   "source": [
    "main_link = 'https://www.presight.io/privacy-policy.html'\n",
    "path = 'chromedriver.exe'\n",
    "\n",
    "chrome_options = Options()                                     \n",
    "chrome_options.add_argument('--no-sandbox')                     \n",
    "chrome_options.add_argument('--disable-notifications')          \n",
    "chrome_options.add_argument('--disable-infobars')               \n",
    "\n",
    "service = Service(executable_path=path)\n",
    "driver = webdriver.Chrome(service=service, options=chrome_options)\n",
    "\n",
    "driver.get(main_link)"
   ]
  },
  {
   "cell_type": "code",
   "execution_count": 3,
   "metadata": {},
   "outputs": [],
   "source": [
    "html = driver.page_source\n",
    "soup = BeautifulSoup(html, 'html.parser')"
   ]
  },
  {
   "cell_type": "code",
   "execution_count": 4,
   "metadata": {},
   "outputs": [],
   "source": [
    "data = []\n"
   ]
  },
  {
   "cell_type": "code",
   "execution_count": 5,
   "metadata": {},
   "outputs": [
    {
     "name": "stdout",
     "output_type": "stream",
     "text": [
      "Presight | AI-powered data platform for business teams\n"
     ]
    }
   ],
   "source": [
    "title = soup.title.get_text()\n",
    "data.append(title)\n",
    "print(title)"
   ]
  },
  {
   "cell_type": "code",
   "execution_count": 6,
   "metadata": {},
   "outputs": [],
   "source": [
    "head_above = soup.find(\"div\", {'class': \"chakra-stack css-1uji4px\"}).find(\"h2\", {'class': \"chakra-heading css-dhb2ck\"})\n",
    "if head_above:\n",
    "    head_above_text = head_above.get_text()\n",
    "    data.append(head_above_text)"
   ]
  },
  {
   "cell_type": "code",
   "execution_count": 7,
   "metadata": {},
   "outputs": [],
   "source": [
    "head_below = soup.find(\"div\", {'class': \"chakra-stack css-1uji4px\"}).find(\"h2\", {'class': \"chakra-heading css-18j379d\"})\n",
    "if head_below:\n",
    "    head_below_text = head_below.get_text()\n",
    "    data.append(head_below_text)"
   ]
  },
  {
   "cell_type": "code",
   "execution_count": 8,
   "metadata": {},
   "outputs": [],
   "source": [
    "content_head = soup.find(\"div\", {'class': \"chakra-stack css-lcbvq9\"}).find(\"p\", {\"class\": \"chakra-text css-0\"})\n",
    "if content_head:\n",
    "    content_head_text = content_head.get_text()\n",
    "    data.append(content_head_text)"
   ]
  },
  {
   "cell_type": "code",
   "execution_count": 9,
   "metadata": {},
   "outputs": [],
   "source": [
    "for tag in soup.find_all(\"div\", {'class': \"chakra-stack css-o5l3sd\"}):\n",
    "    heading = tag.find(\"h2\")\n",
    "    if heading:\n",
    "        # Lấy nội dung <h2>\n",
    "        heading_text = heading.get_text(strip=True)\n",
    "        data.append(heading_text)\n",
    "\n",
    "        # Tìm <p> trực tiếp trong <h2>\n",
    "        p = heading.find_next(\"p\")\n",
    "        if p:\n",
    "            data.append(p.get_text(strip=True))\n",
    "\n",
    "        # Tìm danh sách <ul> trong <h2>\n",
    "        ul = heading.find_next(\"ul\")\n",
    "        if ul:\n",
    "            for item in ul.find_all(\"li\"):\n",
    "                data.append(item.get_text(strip=True))\n",
    "\n",
    "        # Tìm <div> đầu tiên bên trong <h2>\n",
    "        tag_02 = heading.find_next(\"div\")\n",
    "        if tag_02:\n",
    "            tag_03 = tag_02.find(\"div\")\n",
    "            if tag_03:\n",
    "                # Tìm <i> trong <div>\n",
    "                i = tag_03.find(\"i\")\n",
    "                if i:\n",
    "                    data.append(i.get_text(strip=True))\n",
    "\n",
    "                # Tìm <p> trong <div>\n",
    "                p_03 = tag_03.find(\"p\", {'class': \"chakra-text css-0\"})\n",
    "                if p_03:\n",
    "                    data.append(p_03.get_text(strip=True))\n",
    "\n",
    "                # Tìm danh sách <ul> trong <div>\n",
    "                ul_03 = tag_03.find(\"ul\")\n",
    "                if ul_03:\n",
    "                    for item in ul_03.find_all(\"li\"):\n",
    "                        data.append(item.get_text(strip=True))\n",
    "\n",
    "        # Tìm <div> có class cụ thể\n",
    "        tag_02 = heading.find_next(\"div\", {'class': \"chakra-stack css-1rh933v\"})\n",
    "        if tag_02:\n",
    "            for h2_tag in tag_02.find_all(\"h2\"):\n",
    "                # Lấy nội dung <h2> trong <div>\n",
    "                data.append(h2_tag.get_text(strip=True))\n",
    "\n",
    "                # Tìm <p> liền kề <h2> trong <div>\n",
    "                p_tag = h2_tag.find_next_sibling(\"p\")\n",
    "                if p_tag:\n",
    "                    data.append(p_tag.get_text(strip=True))\n"
   ]
  },
  {
   "cell_type": "code",
   "execution_count": 10,
   "metadata": {},
   "outputs": [],
   "source": [
    "df = pd.DataFrame(data, columns=[\"Content\"])\n"
   ]
  },
  {
   "cell_type": "code",
   "execution_count": 11,
   "metadata": {},
   "outputs": [
    {
     "name": "stdout",
     "output_type": "stream",
     "text": [
      "                                               Content\n",
      "0    Presight | AI-powered data platform for busine...\n",
      "1                                       PRIVACY POLICY\n",
      "2                             Last updated 15 Sep 2023\n",
      "3    At Presight, we are committed to protecting th...\n",
      "4                       Information Collection and Use\n",
      "..                                                 ...\n",
      "114  We may update this Privacy Policy from time to...\n",
      "115                                         Contact Us\n",
      "116  If you have any questions about this Privacy P...\n",
      "117                                Purposeful Use Only\n",
      "118  We commit to only use personal information for...\n",
      "\n",
      "[119 rows x 1 columns]\n"
     ]
    }
   ],
   "source": [
    "print(df)\n"
   ]
  },
  {
   "cell_type": "code",
   "execution_count": 12,
   "metadata": {},
   "outputs": [],
   "source": [
    "df.to_csv('dataset.csv', index=False, encoding='utf-8')\n"
   ]
  }
 ],
 "metadata": {
  "kernelspec": {
   "display_name": ".venv",
   "language": "python",
   "name": "python3"
  },
  "language_info": {
   "codemirror_mode": {
    "name": "ipython",
    "version": 3
   },
   "file_extension": ".py",
   "mimetype": "text/x-python",
   "name": "python",
   "nbconvert_exporter": "python",
   "pygments_lexer": "ipython3",
   "version": "3.12.7"
  }
 },
 "nbformat": 4,
 "nbformat_minor": 2
}
